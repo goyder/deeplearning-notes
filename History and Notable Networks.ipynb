{
 "cells": [
  {
   "cell_type": "markdown",
   "metadata": {},
   "source": [
    "# History and notable networks\n",
    "---"
   ]
  },
  {
   "cell_type": "markdown",
   "metadata": {},
   "source": [
    "## Good reading\n",
    "\n",
    "A good article on this can be found [here](https://medium.com/@siddharthdas_32104/cnns-architectures-lenet-alexnet-vgg-googlenet-resnet-and-more-666091488df5)."
   ]
  },
  {
   "cell_type": "markdown",
   "metadata": {},
   "source": [
    "## Specific examples\n",
    "\n",
    "### LeNet-5\n",
    "\n",
    "A classic in the field. [LeNet-5](http://yann.lecun.com/exdb/lenet/), named after its inventor, LeCun, was an early convolutional network.\n",
    "\n",
    "Its structure is very similiar to modern convolutional networks. Some notably interests include:\n",
    "* Use of sigmoid/tanh activations\n",
    "* Use of average pooling\n",
    "\n",
    "An implementation can be found [here](http://deeplearning.net/tutorial/lenet.html).\n",
    "\n",
    "### AlexNet\n",
    "\n",
    "A break-away success - [AlexNet](https://en.wikipedia.org/wiki/AlexNet) outperformed the running up by more than 10 percentage points in a top-5 metric in 2012. This model used an earlier version of CUDA for training and performance.\n",
    "\n",
    "It made use of:\n",
    "* ReLU activations\n",
    "* Multiple GPUs\n",
    "* Local Response Normalisation (LRN)\n",
    "\n",
    "Relatively straightforward paper.\n",
    "\n",
    "### VGG-16\n",
    "\n",
    "Notably both for its success and its simplicity. VGG-16 cut down on the complexity by focusing primarily on $(3\\times3)$ convolutional filters and ($2\\times2, s=2$) max pools.\n",
    "\n",
    "The paper is [widely available](https://arxiv.org/abs/1409.1556).\n",
    "\n",
    "### ResNet\n",
    "\n",
    "Notable for its implementation of \"skip\" layers, which allowed for the training of exceedingly deep networks. VGG-16 was 16 layers - ResNet was 152 layers deep.\n",
    "\n",
    "The paper is available [here](https://arxiv.org/abs/1512.03385).\n",
    "\n",
    "### InceptionNet\n",
    "\n",
    "InceptionNet is  "
   ]
  },
  {
   "cell_type": "code",
   "execution_count": null,
   "metadata": {},
   "outputs": [],
   "source": [
    "k"
   ]
  }
 ],
 "metadata": {
  "kernelspec": {
   "display_name": "Python 3",
   "language": "python",
   "name": "python3"
  },
  "language_info": {
   "codemirror_mode": {
    "name": "ipython",
    "version": 3
   },
   "file_extension": ".py",
   "mimetype": "text/x-python",
   "name": "python",
   "nbconvert_exporter": "python",
   "pygments_lexer": "ipython3",
   "version": "3.6.3"
  }
 },
 "nbformat": 4,
 "nbformat_minor": 2
}
