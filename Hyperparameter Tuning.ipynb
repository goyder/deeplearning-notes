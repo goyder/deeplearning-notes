{
 "cells": [
  {
   "cell_type": "markdown",
   "metadata": {},
   "source": [
    "# Hyperparameter Tuning"
   ]
  },
  {
   "cell_type": "markdown",
   "metadata": {},
   "source": [
    "Broadly speaking, $\\alpha$ - the learning rate is the most important value.\n",
    "\n",
    "The momentum term, $\\beta$, the number of hidden units, and the mini-batch size, are probably secondary in importance to this value."
   ]
  },
  {
   "cell_type": "markdown",
   "metadata": {},
   "source": [
    "## Approaches\n",
    "\n",
    "\n"
   ]
  },
  {
   "cell_type": "markdown",
   "metadata": {},
   "source": [
    "### Grid vs Random\n",
    "It's recommended not to use a grid. You can't tell which are more important; if you go in a grid, you might find that you're varying a parameter that doesn't change at all, and you're wasting an awful lot of time.\n",
    "\n",
    "(Rather than using pseudo-random values, using a Sokol approach might be recommended.)"
   ]
  },
  {
   "cell_type": "markdown",
   "metadata": {},
   "source": [
    "### Searching over large ranges\n",
    "When we are sampling over a range that includes significant variation in orders of magnitude, it might be best to sample from the logarithmic scale rather than the uniform scale."
   ]
  },
  {
   "cell_type": "markdown",
   "metadata": {},
   "source": [
    "### "
   ]
  },
  {
   "cell_type": "code",
   "execution_count": null,
   "metadata": {},
   "outputs": [],
   "source": []
  }
 ],
 "metadata": {
  "kernelspec": {
   "display_name": "Python 3",
   "language": "python",
   "name": "python3"
  },
  "language_info": {
   "codemirror_mode": {
    "name": "ipython",
    "version": 3
   },
   "file_extension": ".py",
   "mimetype": "text/x-python",
   "name": "python",
   "nbconvert_exporter": "python",
   "pygments_lexer": "ipython3",
   "version": "3.6.3"
  }
 },
 "nbformat": 4,
 "nbformat_minor": 2
}
