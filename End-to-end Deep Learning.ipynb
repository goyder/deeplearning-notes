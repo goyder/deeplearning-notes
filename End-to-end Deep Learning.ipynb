{
 "cells": [
  {
   "cell_type": "markdown",
   "metadata": {},
   "source": [
    "# End-to-End Learning"
   ]
  },
  {
   "cell_type": "markdown",
   "metadata": {},
   "source": [
    "End-to-end deep learning allows us to map directly from inputs to some outputs, without having to design the intermediate components."
   ]
  },
  {
   "cell_type": "markdown",
   "metadata": {},
   "source": [
    "## When should it be applied?\n",
    "\n",
    "The key question here is: do you have sufficient data to learn a function of the complexity needed to map x to y?\n",
    "\n",
    "The terms 'sufficient' and 'complexity' here are very vague, and really depend on the problem."
   ]
  },
  {
   "cell_type": "markdown",
   "metadata": {},
   "source": [
    "## Pros\n",
    "\n",
    "* End-to-end learning lets the data speak. If we have sufficient data, then the network can bypass human preconceptions and choose the most appropriate representation and transfer.\n",
    "* Less hand-designing of components. End-to-end learning lets us live the dream of the deep learning wizard - input data, output results, no intermediate crafting required."
   ]
  },
  {
   "cell_type": "markdown",
   "metadata": {},
   "source": [
    "## Cons\n",
    "* May need a large amount of data, which may be particularly challenging depending on how vaguely the question is defined.\n",
    "* Excludes potentially useful hand-designed components. (This is very useful when you don't have an enormous amount of data.)"
   ]
  }
 ],
 "metadata": {
  "kernelspec": {
   "display_name": "Python 3",
   "language": "python",
   "name": "python3"
  },
  "language_info": {
   "codemirror_mode": {
    "name": "ipython",
    "version": 3
   },
   "file_extension": ".py",
   "mimetype": "text/x-python",
   "name": "python",
   "nbconvert_exporter": "python",
   "pygments_lexer": "ipython3",
   "version": "3.6.3"
  }
 },
 "nbformat": 4,
 "nbformat_minor": 2
}
