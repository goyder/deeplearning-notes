{
 "cells": [
  {
   "cell_type": "markdown",
   "metadata": {},
   "source": [
    "# A Freshy's Introduction to Deep Learning"
   ]
  },
  {
   "cell_type": "markdown",
   "metadata": {},
   "source": [
    "If I was a complete beginning to the field of deep learning, what would I want to know?"
   ]
  },
  {
   "cell_type": "markdown",
   "metadata": {},
   "source": [
    "* Perhaps - clear any preconceptions that someone might have about deep learning being the second coming of a rogue AI, or the field of magic in, magic out. This is not true."
   ]
  },
  {
   "cell_type": "markdown",
   "metadata": {},
   "source": [
    "* Clarity that deep learning is a something in the field of machine learning, wherein we use statistical techniques to give computers the ability to improve performance on a task, without being explicitly programmed."
   ]
  },
  {
   "cell_type": "markdown",
   "metadata": {},
   "source": [
    "## Why now? Why is deep learning such a hyped up thing?\n",
    "\n",
    "We could tie this back to a few components:\n",
    "* An explosion of data\n",
    "* Cheap computational power (through GPUs, etc)\n",
    "* It's \"\"\"easy\"\"\" - and surprisingly democratic and accessible\n",
    "* It works (i.e. there's money to be made!)\n",
    "\n",
    "Which of these are cause and which are effect?"
   ]
  },
  {
   "cell_type": "markdown",
   "metadata": {},
   "source": []
  }
 ],
 "metadata": {
  "kernelspec": {
   "display_name": "Python 3",
   "language": "python",
   "name": "python3"
  },
  "language_info": {
   "codemirror_mode": {
    "name": "ipython",
    "version": 3
   },
   "file_extension": ".py",
   "mimetype": "text/x-python",
   "name": "python",
   "nbconvert_exporter": "python",
   "pygments_lexer": "ipython3",
   "version": "3.6.3"
  }
 },
 "nbformat": 4,
 "nbformat_minor": 2
}
