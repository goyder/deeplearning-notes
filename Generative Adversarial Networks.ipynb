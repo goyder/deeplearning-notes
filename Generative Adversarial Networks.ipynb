{
 "cells": [
  {
   "cell_type": "markdown",
   "metadata": {},
   "source": [
    "# General Adversarial Networks (GANs)"
   ]
  },
  {
   "cell_type": "markdown",
   "metadata": {},
   "source": [
    "## A Beginner's Introduction\n",
    "\n",
    "* [Blog post](https://deeplearning4j.org/generative-adversarial-network)"
   ]
  },
  {
   "cell_type": "markdown",
   "metadata": {},
   "source": [
    "## Relativistic GANs\n",
    "\n",
    "* [Blog post](https://ajolicoeur.wordpress.com/relativisticgan/)\n",
    "* [Paper](https://arxiv.org/abs/1807.00734)\n",
    "\n",
    "Proof that there are still significant gains to be made in the deep learning space. A fundamental flaw in the loss function of GANs was found, addressed, and made huge improvements to the stability of the network when training."
   ]
  }
 ],
 "metadata": {
  "kernelspec": {
   "display_name": "Python 3",
   "language": "python",
   "name": "python3"
  },
  "language_info": {
   "codemirror_mode": {
    "name": "ipython",
    "version": 3
   },
   "file_extension": ".py",
   "mimetype": "text/x-python",
   "name": "python",
   "nbconvert_exporter": "python",
   "pygments_lexer": "ipython3",
   "version": "3.6.3"
  }
 },
 "nbformat": 4,
 "nbformat_minor": 2
}
